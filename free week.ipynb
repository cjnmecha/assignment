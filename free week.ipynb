{
 "cells": [
  {
   "cell_type": "markdown",
   "id": "f8ed2587",
   "metadata": {},
   "source": [
    "def bb(bolu):\n",
    "    return bolu.pop() \n",
    "first_number=int(input(\"Enter first number: \"))\n",
    "second_number=int(input(\"Enter second number: \"))\n",
    "third_number=int(input(\"Enter third number: \"))\n",
    "fourth_number=int(input(\"Enter fourth number: \"))\n",
    "fifth_number=int(input(\"Enter fifth number: \"))\n",
    "bolu=[]\n",
    "bolu.append(first_number)\n",
    "bolu.append(second_number)\n",
    "bolu.append(third_number)\n",
    "bolu.append(fourth_number)\n",
    "bolu.append(fifth_number) \n",
    "bolu.sort()\n",
    "bb(4)\n",
    "bolu.pop(0)\n",
    "print(list(bolu)) \n",
    "while len(bolu)>=5:\n",
    "    print(True)\n",
    "    break\n",
    "\n",
    "    "
   ]
  },
  {
   "cell_type": "markdown",
   "id": "ec80fc96",
   "metadata": {},
   "source": [
    "first_number=int(input(\"Enter first number: \"))\n",
    "second_number=int(input(\"Enter second number: \"))\n",
    "third_number=int(input(\"Enter third number: \"))\n",
    "fourth_number=int(input(\"Enter fourth number: \"))\n",
    "fifth_number=int(input(\"Enter fifth number: \"))\n",
    "bolu=[]\n",
    "bolu.append(first_number)\n",
    "bolu.append(second_number)\n",
    "bolu.append(third_number)\n",
    "bolu.append(fourth_number)\n",
    "bolu.append(fifth_number)\n",
    "print(bolu)"
   ]
  },
  {
   "cell_type": "code",
   "execution_count": 13,
   "id": "3e5d1d9d",
   "metadata": {},
   "outputs": [
    {
     "data": {
      "text/plain": [
       "<function list.pop(index=-1, /)>"
      ]
     },
     "execution_count": 13,
     "metadata": {},
     "output_type": "execute_result"
    }
   ],
   "source": [
    "bolu.pop"
   ]
  },
  {
   "cell_type": "code",
   "execution_count": null,
   "id": "72ccf1bf",
   "metadata": {},
   "outputs": [],
   "source": []
  }
 ],
 "metadata": {
  "kernelspec": {
   "display_name": "Python 3 (ipykernel)",
   "language": "python",
   "name": "python3"
  },
  "language_info": {
   "codemirror_mode": {
    "name": "ipython",
    "version": 3
   },
   "file_extension": ".py",
   "mimetype": "text/x-python",
   "name": "python",
   "nbconvert_exporter": "python",
   "pygments_lexer": "ipython3",
   "version": "3.9.12"
  }
 },
 "nbformat": 4,
 "nbformat_minor": 5
}

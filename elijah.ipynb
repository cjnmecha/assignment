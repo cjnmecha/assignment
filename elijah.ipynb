{
 "cells": [
  {
   "cell_type": "markdown",
   "id": "44bac998",
   "metadata": {},
   "source": [
    "# exercise 51 and 52"
   ]
  },
  {
   "cell_type": "code",
   "execution_count": 14,
   "id": "bdd7b8aa",
   "metadata": {
    "scrolled": true
   },
   "outputs": [
    {
     "name": "stdout",
     "output_type": "stream",
     "text": [
      "please enter your grade: A\n",
      "your grade is 4.0\n"
     ]
    }
   ],
   "source": [
    "# a program that computes an equivalent of letter grade\n",
    "grade=input(\"please enter your grade: \").upper()\n",
    "if grade==\"A+\" or grade==\"A\":\n",
    "    print(\"your grade is 4.0\")\n",
    "elif grade==\"A-\":\n",
    "    print(\"your grade is 3.7\")\n",
    "elif grade==\"B+\":\n",
    "    print(\"your grade is 3.3\")\n",
    "elif grade==\"B\":\n",
    "    print(\"your grade is 3.0\")  \n",
    "elif grade==\"B-\":\n",
    "    print(\"your grade is 2.7\")   \n",
    "elif grade==\"C+\":\n",
    "    print(\"your grade is 2.3\") \n",
    "elif grade==\"C\":\n",
    "    print(\"your grade is 2.0\")    \n",
    "elif grade==\"C-\":\n",
    "    print(\"your grade is 1.7\")  \n",
    "elif grade==\"D+\":\n",
    "    print(\"your grade is 1.3\")\n",
    "elif grade==\"D\":\n",
    "    print(\"your grade is 1.0\")  \n",
    "elif grade==\"F\":\n",
    "    print(\"your grade is 0.0\")\n",
    "else:\n",
    "    print(\"please enter a valid grade\")\n",
    "    "
   ]
  },
  {
   "cell_type": "code",
   "execution_count": null,
   "id": "d52b7d40",
   "metadata": {},
   "outputs": [],
   "source": [
    "grades=float(input(\"please enter your grade mark: \"))\n",
    "if grades>4.0 and grades <= 5.0:\n",
    "    print(\"your grade is A+\")\n",
    "elif grades==4.0:\n",
    "    print(\"your grade is A\")    \n",
    "elif grades>=3.7 and grades<4.0:\n",
    "    print(\"your grade is A-\")\n",
    "elif grades>=3.3 and grades <3.7:\n",
    "    print(\"your grade is B+\")\n",
    "elif grades>=3.0 and grades <3.3:\n",
    "    print(\"your grade is B\")  \n",
    "elif  grades>=2.7 and grades <3.0:\n",
    "    print(\"your grade is B-\")   \n",
    "elif grades>=2.3 and grades <2.7:\n",
    "    print(\"your grade is C+\") \n",
    "elif  grades>=2.0 and grades <2.3:\n",
    "    print(\"your grade is C\")    \n",
    "elif grades>=1.7 and grades <2.0:\n",
    "    print(\"your grade is C-\")  \n",
    "elif  grades>=1.30 and grades <1.7:\n",
    "    print(\"your grade is D+\")\n",
    "elif  grades>1.0 and grades <1.3:\n",
    "    print(\"your grade is D\")  \n",
    "elif  grades>=0.0 and grades <1.0:\n",
    "    print(\"your grade is F\")\n",
    "else:\n",
    "    print(\"please enter a valid grad between 0.0 to 5.0\")\n",
    "    "
   ]
  },
  {
   "cell_type": "code",
   "execution_count": null,
   "id": "8f28edb1",
   "metadata": {},
   "outputs": [],
   "source": []
  }
 ],
 "metadata": {
  "kernelspec": {
   "display_name": "Python 3 (ipykernel)",
   "language": "python",
   "name": "python3"
  },
  "language_info": {
   "codemirror_mode": {
    "name": "ipython",
    "version": 3
   },
   "file_extension": ".py",
   "mimetype": "text/x-python",
   "name": "python",
   "nbconvert_exporter": "python",
   "pygments_lexer": "ipython3",
   "version": "3.9.12"
  }
 },
 "nbformat": 4,
 "nbformat_minor": 5
}

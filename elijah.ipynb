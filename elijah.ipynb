{
 "cells": [
  {
   "cell_type": "markdown",
   "id": "44bac998",
   "metadata": {},
   "source": [
    "# exercise 51 and 52"
   ]
  },
  {
   "cell_type": "code",
   "execution_count": 14,
   "id": "bdd7b8aa",
   "metadata": {
    "scrolled": true
   },
   "outputs": [
    {
     "name": "stdout",
     "output_type": "stream",
     "text": [
      "please enter your grade: A\n",
      "your grade is 4.0\n"
     ]
    }
   ],
   "source": [
    "# a program that computes an equivalent of letter grade\n",
    "grade=input(\"please enter your grade: \").upper()\n",
    "if grade==\"A+\" or grade==\"A\":\n",
    "    print(\"your grade is 4.0\")\n",
    "elif grade==\"A-\":\n",
    "    print(\"your grade is 3.7\")\n",
    "elif grade==\"B+\":\n",
    "    print(\"your grade is 3.3\")\n",
    "elif grade==\"B\":\n",
    "    print(\"your grade is 3.0\")  \n",
    "elif grade==\"B-\":\n",
    "    print(\"your grade is 2.7\")   \n",
    "elif grade==\"C+\":\n",
    "    print(\"your grade is 2.3\") \n",
    "elif grade==\"C\":\n",
    "    print(\"your grade is 2.0\")    \n",
    "elif grade==\"C-\":\n",
    "    print(\"your grade is 1.7\")  \n",
    "elif grade==\"D+\":\n",
    "    print(\"your grade is 1.3\")\n",
    "elif grade==\"D\":\n",
    "    print(\"your grade is 1.0\")  \n",
    "elif grade==\"F\":\n",
    "    print(\"your grade is 0.0\")\n",
    "else:\n",
    "    print(\"please enter a valid grade\")\n",
    "    "
   ]
  },
  {
   "cell_type": "code",
   "execution_count": null,
   "id": "d52b7d40",
   "metadata": {},
   "outputs": [],
   "source": [
    "grades=float(input(\"please enter your grade mark: \"))\n",
    "if grades>4.0 and grades <= 5.0:\n",
    "    print(\"your grade is A+\")\n",
    "elif grades==4.0:\n",
    "    print(\"your grade is A\")    \n",
    "elif grades>=3.7 and grades<4.0:\n",
    "    print(\"your grade is A-\")\n",
    "elif grades>=3.3 and grades <3.7:\n",
    "    print(\"your grade is B+\")\n",
    "elif grades>=3.0 and grades <3.3:\n",
    "    print(\"your grade is B\")  \n",
    "elif  grades>=2.7 and grades <3.0:\n",
    "    print(\"your grade is B-\")   \n",
    "elif grades>=2.3 and grades <2.7:\n",
    "    print(\"your grade is C+\") \n",
    "elif  grades>=2.0 and grades <2.3:\n",
    "    print(\"your grade is C\")    \n",
    "elif grades>=1.7 and grades <2.0:\n",
    "    print(\"your grade is C-\")  \n",
    "elif  grades>=1.30 and grades <1.7:\n",
    "    print(\"your grade is D+\")\n",
    "elif  grades>1.0 and grades <1.3:\n",
    "    print(\"your grade is D\")  \n",
    "elif  grades>=0.0 and grades <1.0:\n",
    "    print(\"your grade is F\")\n",
    "else:\n",
    "    print(\"please enter a valid grad between 0.0 to 5.0\")\n",
    "    "
   ]
  },
  {
   "cell_type": "markdown",
   "id": "dc7a9735",
   "metadata": {},
   "source": [
    "## exercise 82"
   ]
  },
  {
   "cell_type": "code",
   "execution_count": 16,
   "id": "70b03897",
   "metadata": {},
   "outputs": [],
   "source": [
    "def fare(distance,baseFare=4.0):\n",
    "    totalFare=(0.25*distance)+baseFare\n",
    "    return totalFare"
   ]
  },
  {
   "cell_type": "code",
   "execution_count": 22,
   "id": "18e8f18e",
   "metadata": {},
   "outputs": [
    {
     "name": "stdout",
     "output_type": "stream",
     "text": [
      "please enter a password: ugtyghgytft\n",
      "True\n"
     ]
    }
   ],
   "source": [
    "password=(input(\"please enter a password: \"))\n",
    "if (password.lower()) and (password.upper()) and len(password)>=8: \n",
    "    print(True) \n",
    "else:\n",
    "    print(False)"
   ]
  },
  {
   "cell_type": "code",
   "execution_count": 36,
   "id": "633fadcd",
   "metadata": {},
   "outputs": [
    {
     "name": "stdout",
     "output_type": "stream",
     "text": [
      "please enter a password: JFJURUIHUE\n"
     ]
    },
    {
     "data": {
      "text/plain": [
       "True"
      ]
     },
     "execution_count": 36,
     "metadata": {},
     "output_type": "execute_result"
    }
   ],
   "source": [
    "def security(password):\n",
    "    return password.islower() and password.isupper()\n",
    "password=(input(\"please enter a password: \"))\n",
    "len(password) >=8\n",
    "#while password is True:\n",
    "    #if password.islower() and password.isupper():\n",
    "        #print(\"True\")\n",
    "    #else:\n",
    "        #print(\"password must contain at least an upper case and a number\")\n",
    "        #break\n",
    "#else:\n",
    "    #print(\"password must be up to 8 characters\")"
   ]
  },
  {
   "cell_type": "code",
   "execution_count": 40,
   "id": "bf8584ff",
   "metadata": {},
   "outputs": [
    {
     "data": {
      "text/plain": [
       "False"
      ]
     },
     "execution_count": 40,
     "metadata": {},
     "output_type": "execute_result"
    }
   ],
   "source": [
    "password.islower()"
   ]
  },
  {
   "cell_type": "code",
   "execution_count": 41,
   "id": "cf63b588",
   "metadata": {},
   "outputs": [
    {
     "data": {
      "text/plain": [
       "False"
      ]
     },
     "execution_count": 41,
     "metadata": {},
     "output_type": "execute_result"
    }
   ],
   "source": [
    "password.isupper()"
   ]
  },
  {
   "cell_type": "code",
   "execution_count": 50,
   "id": "8f76d8ba",
   "metadata": {},
   "outputs": [],
   "source": [
    "def security(password):\n",
    "    if len(password) >=8 and password.islower() and password.isupper():\n",
    "        return True"
   ]
  },
  {
   "cell_type": "code",
   "execution_count": null,
   "id": "b7b25d78",
   "metadata": {},
   "outputs": [],
   "source": [
    "password=(input(\"please enter a password: \"))"
   ]
  },
  {
   "cell_type": "code",
   "execution_count": null,
   "id": "f0c2d8cc",
   "metadata": {},
   "outputs": [],
   "source": [
    "security(gftrddtghj)"
   ]
  },
  {
   "cell_type": "code",
   "execution_count": null,
   "id": "5ab0882a",
   "metadata": {},
   "outputs": [],
   "source": [
    "def bb(a):\n",
    "    return bolu.pop()    \n",
    "first_number=int(input(\"Enter first number: \"))\n",
    "second_number=int(input(\"Enter second number: \"))\n",
    "third_number=int(input(\"Enter third number:\"))\n",
    "fourth_number=int(input(\"Enter fourth number: \"))\n",
    "fifth_number=int(input(\"Enter fifth number: \"))\n",
    "if ValueError:\n",
    "    try:\n",
    "        print(\" \")\n",
    "    except:        \n",
    "        print(\"please enter at leasr 5 numbers\") \n",
    "bolu=[]\n",
    "bolu.append(first_number)\n",
    "bolu.append(second_number)\n",
    "bolu.append(third_number)\n",
    "bolu.append(fourth_number)\n",
    "bolu.append(fifth_number) \n",
    "bolu.sort()\n",
    "bb(4)\n",
    "bb(0)\n",
    "print(list(bolu)) \n",
    "while len(bolu)>=4:\n",
    "    print(True)\n",
    "    break\n"
   ]
  },
  {
   "cell_type": "markdown",
   "id": "caecf238",
   "metadata": {},
   "source": [
    "###### "
   ]
  },
  {
   "cell_type": "code",
   "execution_count": 10,
   "id": "4ba6496d",
   "metadata": {},
   "outputs": [],
   "source": [
    "numbers=[6,21,9,10,16]"
   ]
  },
  {
   "cell_type": "code",
   "execution_count": 11,
   "id": "f1c36209",
   "metadata": {},
   "outputs": [],
   "source": [
    "def brighto(x):\n",
    "    x.sort()\n",
    "    x.pop()\n",
    "    x.pop(0)\n",
    "    return x"
   ]
  },
  {
   "cell_type": "code",
   "execution_count": 30,
   "id": "b67e54a9",
   "metadata": {},
   "outputs": [],
   "source": [
    "def emma(x):\n",
    "    x.sort()\n",
    "    x.pop()\n",
    "    x.pop()\n",
    "    x.pop(0)\n",
    "    x.pop(0)\n",
    "    return x"
   ]
  },
  {
   "cell_type": "code",
   "execution_count": 12,
   "id": "80621e9d",
   "metadata": {},
   "outputs": [
    {
     "data": {
      "text/plain": [
       "[9, 10, 16]"
      ]
     },
     "execution_count": 12,
     "metadata": {},
     "output_type": "execute_result"
    }
   ],
   "source": [
    "brighto(numbers)"
   ]
  },
  {
   "cell_type": "code",
   "execution_count": 29,
   "id": "5554a6d5",
   "metadata": {},
   "outputs": [
    {
     "name": "stdout",
     "output_type": "stream",
     "text": [
      "please enter your number: 78\n",
      "please enter your number: 6\n",
      "please enter your number: 5\n",
      "please enter your number: 4\n",
      "please enter your number: 3\n",
      "please enter your number: 7\n",
      "please enter your number: \n",
      "[78, 6, 5, 4, 3, 7]\n",
      "[5, 6]\n"
     ]
    }
   ],
   "source": [
    "number=[]\n",
    "while True:\n",
    "    num=input(\"please enter your number: \")\n",
    "    if num ==\"\":\n",
    "        break\n",
    "    num=int(num)\n",
    "    number.append(num)  \n",
    "if len(number) < 4:\n",
    "    print(\"please enter 4 or more items\")\n",
    "print(number)        \n",
    "brighto(number)\n",
    "print(brighto(number))"
   ]
  },
  {
   "cell_type": "code",
   "execution_count": 36,
   "id": "5aba6dbe",
   "metadata": {},
   "outputs": [
    {
     "name": "stdout",
     "output_type": "stream",
     "text": [
      "please enter your number: 66\n",
      "please enter your number: 67\n",
      "please enter your number: 65\n",
      "please enter your number: 4\n",
      "please enter your number: 43\n",
      "please enter your number: -5\n",
      "please enter your number: \n",
      "[66, 67, 65, 4, 43]\n",
      " after popping [65]\n"
     ]
    }
   ],
   "source": [
    "number=[]\n",
    "while True:\n",
    "    num=input(\"please enter your number: \")\n",
    "    if num ==\"\":\n",
    "        break\n",
    "    num=int(num)\n",
    "    if num<0:\n",
    "        continue\n",
    "    number.append(num)  \n",
    "if len(number) < 4:\n",
    "    print(\"please enter 4 or more items\")\n",
    "print(number)        \n",
    "print(f\" after popping {emma(number)}\")"
   ]
  },
  {
   "cell_type": "code",
   "execution_count": null,
   "id": "875b7fa3",
   "metadata": {},
   "outputs": [],
   "source": [
    "7"
   ]
  }
 ],
 "metadata": {
  "kernelspec": {
   "display_name": "Python 3 (ipykernel)",
   "language": "python",
   "name": "python3"
  },
  "language_info": {
   "codemirror_mode": {
    "name": "ipython",
    "version": 3
   },
   "file_extension": ".py",
   "mimetype": "text/x-python",
   "name": "python",
   "nbconvert_exporter": "python",
   "pygments_lexer": "ipython3",
   "version": "3.9.12"
  }
 },
 "nbformat": 4,
 "nbformat_minor": 5
}

{
 "cells": [
  {
   "cell_type": "markdown",
   "id": "c81f96dc",
   "metadata": {},
   "source": [
    "# exercise 5"
   ]
  },
  {
   "cell_type": "code",
   "execution_count": 1,
   "id": "24668758",
   "metadata": {},
   "outputs": [
    {
     "name": "stdout",
     "output_type": "stream",
     "text": [
      "please enter number of liters:6\n",
      "your deposit is $0.25\n"
     ]
    }
   ],
   "source": [
    "##drinks containing more than one liter have a deposit of $0.25 while drinks with one or less have $0.10 deposit\n",
    "number=float(input(\"please enter number of liters:\", ))\n",
    "if number==0 or number<0:\n",
    "    print(\"please enter the number of liters\")\n",
    "elif number <=1:\n",
    "    print(\"your deposit is ${:.2f}\".format(0.10))\n",
    "else:\n",
    "    print(\"your deposit is ${:.2f}\".format(0.25))"
   ]
  },
  {
   "cell_type": "markdown",
   "id": "14c0e4a4",
   "metadata": {},
   "source": [
    "# exercise 6"
   ]
  },
  {
   "cell_type": "code",
   "execution_count": 2,
   "id": "fb0775ff",
   "metadata": {},
   "outputs": [
    {
     "name": "stdout",
     "output_type": "stream",
     "text": [
      "please enter the cost of the meal:76\n",
      "the tax for the meal is: $7.60\n",
      "the tip for the meal is: $13.68\n",
      "the total cost for the meal is: $97.28\n"
     ]
    }
   ],
   "source": [
    "##tax and tip. tip is 18%. output should include tax amount,tip,total\n",
    "cost_of_meal=float(input(\"please enter the cost of the meal:\" ))\n",
    "x=cost_of_meal*0.10\n",
    "tax=\"{:.2f}\".format(x)\n",
    "print(f\"the tax for the meal is: ${tax}\")\n",
    "y=cost_of_meal*0.18\n",
    "tip=\"{:.2f}\".format(y)\n",
    "print(f\"the tip for the meal is: ${tip}\")\n",
    "total=\"{:.2f}\".format(cost_of_meal+x+y)\n",
    "print(f\"the total cost for the meal is: ${total}\")"
   ]
  },
  {
   "cell_type": "markdown",
   "id": "5fb7882f",
   "metadata": {},
   "source": [
    "# exercise 8"
   ]
  },
  {
   "cell_type": "code",
   "execution_count": 3,
   "id": "aba885d3",
   "metadata": {},
   "outputs": [
    {
     "name": "stdout",
     "output_type": "stream",
     "text": [
      "number of widget(s): 8\n",
      "the total weight of widgets is:  600 grams\n",
      "number of gizmo(s): 7\n",
      "total weight of gizmos is : 784 grams\n",
      "total weight of order: 1384 grams\n"
     ]
    }
   ],
   "source": [
    "#widget weighs 75grams,gizmo weighs 112 grams\n",
    "number_of_widget=int(input(\"number of widget(s): \"))\n",
    "weight_of_widget=75\n",
    "total_weight_of_widget=number_of_widget*weight_of_widget\n",
    "print(\"the total weight of widgets is: \",total_weight_of_widget,\"grams\")\n",
    "number_of_gizmo=int(input(\"number of gizmo(s): \"))\n",
    "weight_of_gizmo=112\n",
    "total_weight_of_gizmo=weight_of_gizmo*number_of_gizmo\n",
    "print(\"total weight of gizmos is :\",total_weight_of_gizmo,\"grams\")\n",
    "total_weight_of_order=total_weight_of_gizmo+total_weight_of_widget\n",
    "print(\"total weight of order:\",total_weight_of_order,\"grams\")"
   ]
  },
  {
   "cell_type": "markdown",
   "id": "5bf75512",
   "metadata": {},
   "source": [
    "# exercise 11"
   ]
  },
  {
   "cell_type": "code",
   "execution_count": 5,
   "id": "9d3e9b94",
   "metadata": {},
   "outputs": [
    {
     "name": "stdout",
     "output_type": "stream",
     "text": [
      "please enter your fuel efficiency in MPG:67\n",
      "fuel effiency in (MPG): 67.0 MPG\n",
      "fuel efficiency in (L/100KM): 15759.405 L/100KM\n"
     ]
    }
   ],
   "source": [
    "#convert US miles_per_gallon(MPG) to Canadain liter per 100km(L/100KM)\n",
    "MPG=float(input(\"please enter your fuel efficiency in MPG:\" ))\n",
    "print(\"fuel effiency in (MPG):\",MPG,\"MPG\")\n",
    "conversion=MPG*235.215\n",
    "print(\"fuel efficiency in (L/100KM):\",conversion,\"L/100KM\")"
   ]
  },
  {
   "cell_type": "markdown",
   "id": "2ea3266d",
   "metadata": {},
   "source": [
    "# exercise 12"
   ]
  },
  {
   "cell_type": "code",
   "execution_count": 8,
   "id": "f95d74ce",
   "metadata": {},
   "outputs": [],
   "source": [
    "import math"
   ]
  },
  {
   "cell_type": "code",
   "execution_count": 9,
   "id": "943b5f85",
   "metadata": {},
   "outputs": [
    {
     "name": "stdout",
     "output_type": "stream",
     "text": [
      "first latitude: 87\n",
      "second latitude: 67\n",
      "first longitude: 76\n",
      "second longitude: 89\n",
      "distance= 2233.644538555306 km\n"
     ]
    }
   ],
   "source": [
    "t1=float(input(\"first latitude: \")) ##don\"t know what i did\n",
    "t11=math.radians(t1)\n",
    "t2=float(input(\"second latitude: \"))\n",
    "t22=math.radians(t2)\n",
    "g1=float(input(\"first longitude: \"))\n",
    "g11=math.radians(g1)\n",
    "g2=float(input(\"second longitude: \"))\n",
    "g22=math.radians(g2)\n",
    "distance=6371.01*math.acos(math.sin(t11)*math.sin(t22)+math.cos(t11)*math.cos(t22)*math.cos(g11-g22))\n",
    "print(\"distance=\",distance,\"km\" )"
   ]
  },
  {
   "cell_type": "code",
   "execution_count": 34,
   "id": "380b6634",
   "metadata": {},
   "outputs": [
    {
     "data": {
      "text/plain": [
       "12"
      ]
     },
     "execution_count": 34,
     "metadata": {},
     "output_type": "execute_result"
    }
   ],
   "source": [
    "(2+(3-1)*5)"
   ]
  },
  {
   "cell_type": "markdown",
   "id": "026c635a",
   "metadata": {},
   "source": [
    "# exercise 27"
   ]
  },
  {
   "cell_type": "code",
   "execution_count": 36,
   "id": "c272e256",
   "metadata": {},
   "outputs": [
    {
     "name": "stdout",
     "output_type": "stream",
     "text": [
      "enter your weight in pounds: 180\n",
      "weight= 180.0 lb\n",
      "please enter your height in inches 69.6\n",
      "height= 69.6 \"\n",
      "BMI= 26.122175980975037\n"
     ]
    }
   ],
   "source": [
    "##to calculate bmi using height and weight.\n",
    "weight=float(input(\"enter your weight in pounds: \"))\n",
    "print(\"weight=\",weight,\"lb\")\n",
    "height=float(input(\"please enter your height in inches \", ))\n",
    "print(\"height=\",height,'\"')\n",
    "BMI=((weight)/(height*height))*703\n",
    "print(\"BMI=\",BMI)"
   ]
  },
  {
   "cell_type": "markdown",
   "id": "0a2462c9",
   "metadata": {},
   "source": [
    "# exercise 38"
   ]
  },
  {
   "cell_type": "code",
   "execution_count": 10,
   "id": "5d8329b4",
   "metadata": {},
   "outputs": [
    {
     "name": "stdout",
     "output_type": "stream",
     "text": [
      "enter your month: august\n",
      "there are 30 days in august\n"
     ]
    }
   ],
   "source": [
    "#number of days in a month\n",
    "month=(input(\"enter your month: \"))\n",
    "month=month.lower()\n",
    "if month==\"april\"or month==\"june\"or month==\"september\"or month==\"november\"or month==\"apr\"or month==\"sept\"or month==\"nov\":\n",
    "    print(\"there are 30 days in\",month)\n",
    "elif month==\"february\"or month==\"feb\":\n",
    "    print(\"there are 28 days or 29 days in\",month)\n",
    "elif month==\"january\" or month==\"march\" or month==\"may\" or month==\"july\" or month==\"august\":\n",
    "    print(\"there are 30 days in\",month)\n",
    "elif month==\"october\" or month==\"december\":\n",
    "    print(f\"there are 30 days in {month}\")\n",
    "else:\n",
    "    print(f\"please enter a valid month because {month} is not a month\")"
   ]
  },
  {
   "cell_type": "markdown",
   "id": "c153776a",
   "metadata": {},
   "source": [
    "# exercise 39"
   ]
  },
  {
   "cell_type": "code",
   "execution_count": 46,
   "id": "29716773",
   "metadata": {},
   "outputs": [
    {
     "name": "stdout",
     "output_type": "stream",
     "text": [
      "please enter noise level in decibel:120\n",
      "the noise level 120 dB is not recorded\n"
     ]
    }
   ],
   "source": [
    "##noise level\n",
    "noise_level=int(input(\"please enter noise level in decibel:\", ))\n",
    "if noise_level==130:\n",
    "    print(\"noise level\",noise_level,\"dB is for jackhammer\")\n",
    "elif noise_level==106:\n",
    "    print(\"noise level\",noise_level,\"dB is for gas lawnmower\")\n",
    "elif noise_level==70:\n",
    "    print(\"noise level\",noise_level,\"dB is for alarm clock\")\n",
    "elif noise_level==40:\n",
    "    print(\"noise level\",noise_level,\"dB is for quiet room\")\n",
    "elif noise_level<40:\n",
    "    print(\"the noise level\",noise_level,\"dB is smaller than recorded levels\")\n",
    "elif noise_level>130:\n",
    "    print(\"the noise level\",noise_level,\"dB is larger than recorded levels\") \n",
    "else:\n",
    "    print(\"the noise level\",noise_level,\"dB is not recorded\")"
   ]
  },
  {
   "cell_type": "markdown",
   "id": "b598b842",
   "metadata": {},
   "source": [
    "# funnction assignment"
   ]
  },
  {
   "cell_type": "code",
   "execution_count": 25,
   "id": "3d1a4a76",
   "metadata": {},
   "outputs": [
    {
     "data": {
      "text/plain": [
       "2"
      ]
     },
     "execution_count": 25,
     "metadata": {},
     "output_type": "execute_result"
    }
   ],
   "source": [
    "##write a program that would calculate a quadratic equation\n",
    "#ax**2+bx+c=0\n",
    "def fx(a,b,c,):\n",
    "    \"\"\"this is used to find the roots of a quadratic equation\"\"\"\n",
    "    return a\n",
    "fx(2,3,4,)\n",
    "\n"
   ]
  },
  {
   "cell_type": "code",
   "execution_count": 37,
   "id": "e0081159",
   "metadata": {},
   "outputs": [
    {
     "name": "stdout",
     "output_type": "stream",
     "text": [
      "<map object at 0x000001CCF56283A0>\n",
      "['harry stella god', 'ken bina why', 'pete tech me']\n"
     ]
    }
   ],
   "source": [
    "def jessica(m,c,j):\n",
    "    return m+' '+c+\" \"+j\n",
    "b = map(jessica, ('harry','ken','pete'),('stella','bina','tech'),('god','why','me'))\n",
    "        \n",
    "print(b)\n",
    "print(list(b))\n",
    "\n"
   ]
  },
  {
   "cell_type": "code",
   "execution_count": 30,
   "id": "69ce9cee",
   "metadata": {},
   "outputs": [
    {
     "name": "stdout",
     "output_type": "stream",
     "text": [
      "5\n",
      "12\n",
      "17\n"
     ]
    }
   ],
   "source": [
    "ages = [5, 12, 17, 18, 24, 32]\n",
    "\n",
    "def myFunc(x):\n",
    "  if x < 18:\n",
    "    return True\n",
    "  else:\n",
    "    return False\n",
    "\n",
    "kids = filter(myFunc, ages)\n",
    "\n",
    "for x in kids:\n",
    "  print(x)\n"
   ]
  },
  {
   "cell_type": "code",
   "execution_count": 39,
   "id": "dd07b158",
   "metadata": {},
   "outputs": [
    {
     "name": "stdout",
     "output_type": "stream",
     "text": [
      "[8, 9, 10, 11, 12, 13, 14]\n"
     ]
    }
   ],
   "source": [
    "pH=[0,1,2,3,4,5,6,7,8,9,10,11,12,13,14]\n",
    "def x(pHValue):\n",
    "    if pHValue > 7:\n",
    "        return True\n",
    "    else:\n",
    "        return False\n",
    "    \n",
    "base=filter(x, pH)\n",
    "print(list(base))"
   ]
  },
  {
   "cell_type": "code",
   "execution_count": 38,
   "id": "b25e2ea2",
   "metadata": {},
   "outputs": [
    {
     "name": "stdout",
     "output_type": "stream",
     "text": [
      "[3, 4, 5, 1, 100, 7]\n"
     ]
    }
   ],
   "source": [
    "num=[-3,4,-5,-1,-100,7]\n",
    "print(list(map(abs,num)))"
   ]
  },
  {
   "cell_type": "code",
   "execution_count": null,
   "id": "a52724ad",
   "metadata": {},
   "outputs": [],
   "source": [
    "first=[1,2,3,4]\n",
    "second=[2,3,4,5,]\n"
   ]
  }
 ],
 "metadata": {
  "kernelspec": {
   "display_name": "Python 3 (ipykernel)",
   "language": "python",
   "name": "python3"
  },
  "language_info": {
   "codemirror_mode": {
    "name": "ipython",
    "version": 3
   },
   "file_extension": ".py",
   "mimetype": "text/x-python",
   "name": "python",
   "nbconvert_exporter": "python",
   "pygments_lexer": "ipython3",
   "version": "3.9.12"
  }
 },
 "nbformat": 4,
 "nbformat_minor": 5
}

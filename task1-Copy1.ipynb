{
 "cells": [
  {
   "cell_type": "markdown",
   "id": "c5166dcf",
   "metadata": {},
   "source": [
    "## Given 6 days, on day one you had rice, day two you had beans, day three you had eggs, day four you had cakes, day five you had soup, and day six you had fruits.\n",
    "## 1a. repesent this data in python using the correct data structure/type. 1b. use this data to create a pandas series. 1c. display the series from fourth day to the last day"
   ]
  },
  {
   "cell_type": "code",
   "execution_count": 1,
   "id": "b6e9bdfb",
   "metadata": {},
   "outputs": [
    {
     "name": "stdout",
     "output_type": "stream",
     "text": [
      "{'day 1': 'rice', 'day 2': 'beans', 'day 3': 'eggs', 'day 4': 'cakes', 'day 5': 'soup', 'day 6': 'fruits'}\n"
     ]
    }
   ],
   "source": [
    "meals={\n",
    "                    \"day 1\":\"rice\",\n",
    "                    \"day 2\": \"beans\",\n",
    "                    \"day 3\": \"eggs\",\n",
    "                    \"day 4\":\"cakes\",\n",
    "                    \"day 5\": \"soup\",\n",
    "                    \"day 6\": \"fruits\",\n",
    "                }\n",
    "print(meals)"
   ]
  },
  {
   "cell_type": "code",
   "execution_count": 3,
   "id": "fa65b560",
   "metadata": {},
   "outputs": [],
   "source": [
    "import pandas as pd\n",
    "import numpy as np"
   ]
  },
  {
   "cell_type": "code",
   "execution_count": 3,
   "id": "4d8f6387",
   "metadata": {
    "scrolled": true
   },
   "outputs": [
    {
     "name": "stdout",
     "output_type": "stream",
     "text": [
      "day 1      rice\n",
      "day 2     beans\n",
      "day 3      eggs\n",
      "day 4     cakes\n",
      "day 5      soup\n",
      "day 6    fruits\n",
      "dtype: object\n"
     ]
    }
   ],
   "source": [
    "info = pd.Series(meals)\n",
    "print(info)"
   ]
  },
  {
   "cell_type": "code",
   "execution_count": 4,
   "id": "50f746f7",
   "metadata": {},
   "outputs": [
    {
     "name": "stdout",
     "output_type": "stream",
     "text": [
      "day 4     cakes\n",
      "day 5      soup\n",
      "day 6    fruits\n",
      "dtype: object\n"
     ]
    }
   ],
   "source": [
    "print(info[3:])"
   ]
  },
  {
   "cell_type": "markdown",
   "id": "b9ce2a3d",
   "metadata": {},
   "source": [
    "## 2a. create two arrays of random number between 1 and 4 with a length of 10 values 2b. use both arrays to create a pandas series 2c. perform the following arithmetic operations on both arrays using addition, multiplication, division and subtraction"
   ]
  },
  {
   "cell_type": "code",
   "execution_count": 5,
   "id": "d791c2e9",
   "metadata": {},
   "outputs": [
    {
     "name": "stdout",
     "output_type": "stream",
     "text": [
      "[2 2 1 3 1 1 1 1 2 1]\n",
      "[1 3 2 1 3 2 1 2 3 3]\n"
     ]
    }
   ],
   "source": [
    "arr1=np.random.randint(1,4,10)\n",
    "arr2=np.random.randint(1,4,10)\n",
    "print(arr1)\n",
    "print(arr2)"
   ]
  },
  {
   "cell_type": "code",
   "execution_count": 6,
   "id": "e3017670",
   "metadata": {},
   "outputs": [
    {
     "name": "stdout",
     "output_type": "stream",
     "text": [
      "1    2\n",
      "3    2\n",
      "2    1\n",
      "1    3\n",
      "3    1\n",
      "2    1\n",
      "1    1\n",
      "2    1\n",
      "3    2\n",
      "3    1\n",
      "dtype: int32\n"
     ]
    }
   ],
   "source": [
    "arr3=pd.Series(arr1,arr2)\n",
    "print(arr3)"
   ]
  },
  {
   "cell_type": "code",
   "execution_count": 7,
   "id": "893f0bc8",
   "metadata": {},
   "outputs": [
    {
     "data": {
      "text/plain": [
       "array([3, 5, 3, 4, 4, 3, 2, 3, 5, 4])"
      ]
     },
     "execution_count": 7,
     "metadata": {},
     "output_type": "execute_result"
    }
   ],
   "source": [
    "np.add(arr1,arr2)"
   ]
  },
  {
   "cell_type": "code",
   "execution_count": 8,
   "id": "6730074d",
   "metadata": {},
   "outputs": [
    {
     "data": {
      "text/plain": [
       "array([2, 6, 2, 3, 3, 2, 1, 2, 6, 3])"
      ]
     },
     "execution_count": 8,
     "metadata": {},
     "output_type": "execute_result"
    }
   ],
   "source": [
    "np.multiply(arr1,arr2)"
   ]
  },
  {
   "cell_type": "code",
   "execution_count": 9,
   "id": "8e58d93f",
   "metadata": {},
   "outputs": [
    {
     "data": {
      "text/plain": [
       "array([2.        , 0.66666667, 0.5       , 3.        , 0.33333333,\n",
       "       0.5       , 1.        , 0.5       , 0.66666667, 0.33333333])"
      ]
     },
     "execution_count": 9,
     "metadata": {},
     "output_type": "execute_result"
    }
   ],
   "source": [
    "np.divide(arr1,arr2)"
   ]
  },
  {
   "cell_type": "code",
   "execution_count": 10,
   "id": "b134796e",
   "metadata": {},
   "outputs": [
    {
     "data": {
      "text/plain": [
       "array([ 1, -1, -1,  2, -2, -1,  0, -1, -1, -2])"
      ]
     },
     "execution_count": 10,
     "metadata": {},
     "output_type": "execute_result"
    }
   ],
   "source": [
    "np.subtract(arr1,arr2)"
   ]
  },
  {
   "cell_type": "markdown",
   "id": "800bf8d7",
   "metadata": {},
   "source": [
    "## 3a. you have 6 days, create a dataframe using a list of days as the column, and also a list of what you did during those days"
   ]
  },
  {
   "cell_type": "code",
   "execution_count": 11,
   "id": "4110c4c8",
   "metadata": {},
   "outputs": [
    {
     "name": "stdout",
     "output_type": "stream",
     "text": [
      "    days     activity\n",
      "0  day 1         game\n",
      "1  day 2        clean\n",
      "2  day 3         camp\n",
      "3  day 4     work out\n",
      "4  day 5         cook\n",
      "5  day 6  photography\n"
     ]
    }
   ],
   "source": [
    "days=[\"day 1\",\"day 2\",\"day 3\",\"day 4\",\"day 5\",\"day 6\"]\n",
    "activity=[\"game\",\"clean\",\"camp\",\"work out\" ,\"cook\", \"photography\"]\n",
    "activities=list(zip(days,activity))\n",
    "df= pd.DataFrame(activities,columns=[\"days\",\"activity\"])\n",
    "print(df)"
   ]
  },
  {
   "cell_type": "markdown",
   "id": "c33968a0",
   "metadata": {},
   "source": [
    "## 4a. create a csv file to show what maximum of 10 persons like and dislikes, with a dataset including the following criterias, a. name b. gender c. age d. country e. likes f. dislikes\n",
    "\n",
    "## hence your likes and dislikes should include random text such as a. football b. singing c. dancing d. coding\n",
    "\n"
   ]
  },
  {
   "cell_type": "code",
   "execution_count": 40,
   "id": "9b4b465d",
   "metadata": {
    "scrolled": false
   },
   "outputs": [
    {
     "name": "stdout",
     "output_type": "stream",
     "text": [
      "     Name  Gender  Age    Country    Likes Dislikes\n",
      "0   Grace  female   19       Togo  fotball   coding\n",
      "1   Helen  female   39   Tanzania  singing  fotball\n",
      "2  Elijah    male   21      Niger  fotball  dancing\n",
      "3   Perpe  female   19  Mdagascar  fotball  singing\n",
      "4    Akin    male   24    Nigeria  dancing  singing\n",
      "5   Amina  female   17    Algeria   coding  singing\n",
      "6   Angel  female   19    Senegal  fotball   coding\n",
      "7  Adonai    male   29      Ghana   coding  dancing\n",
      "8   Sandy  female   20    Nigeria  singing   coding\n"
     ]
    }
   ],
   "source": [
    "project= pd.read_csv(\"project.csv\")\n",
    "print(project)"
   ]
  },
  {
   "cell_type": "markdown",
   "id": "3349df4b",
   "metadata": {},
   "source": [
    "## 4b. create a dataframe with this data using pandas 4c. analyse the dataset with pandas by filtering the data by people who like just football 4d. repeat the process by filtering the people who dislike football as well 4e. print out a nice statement dynamically with python as follows with all the person that like and dislikes football eg. 'Precious likes football', 'James dislikes football'"
   ]
  },
  {
   "cell_type": "code",
   "execution_count": 39,
   "id": "1e3bb90b",
   "metadata": {},
   "outputs": [
    {
     "name": "stdout",
     "output_type": "stream",
     "text": [
      "     Name  Gender  Age    Country    Likes Dislikes\n",
      "0   Grace  female   19       Togo  fotball   coding\n",
      "1   Helen  female   39   Tanzania  singing  fotball\n",
      "2  Elijah    male   21      Niger  fotball  dancing\n",
      "3   Perpe  female   19  Mdagascar  fotball  singing\n",
      "4    Akin    male   24    Nigeria  dancing  singing\n",
      "5   Amina  female   17    Algeria   coding  singing\n",
      "6   Angel  female   19    Senegal  fotball   coding\n",
      "7  Adonai    male   29      Ghana   coding  dancing\n",
      "8   Sandy  female   20    Nigeria  singing   coding\n"
     ]
    }
   ],
   "source": [
    "df2=pd.DataFrame(project)\n",
    "print(df2)"
   ]
  },
  {
   "cell_type": "code",
   "execution_count": 88,
   "id": "d6c84d8c",
   "metadata": {
    "scrolled": true
   },
   "outputs": [
    {
     "name": "stdout",
     "output_type": "stream",
     "text": [
      "Empty DataFrame\n",
      "Columns: [Name, Gender, Age, Country, Likes, Dislikes]\n",
      "Index: []\n",
      "Empty DataFrame\n",
      "Columns: []\n",
      "Index: []\n"
     ]
    }
   ],
   "source": [
    "lovers=df2.query(\"Likes=='football'\")\n",
    "print(lovers)\n",
    "football_lovers=lovers.filter(like=\"football\")\n",
    "print(football_lovers)"
   ]
  },
  {
   "cell_type": "markdown",
   "id": "e04a905a",
   "metadata": {},
   "source": [
    "## Apperantely given the data structure below, an error was found, the coutries are supposed to be ranked alphabetically by thier keys. as the values of each countries are ordered alphabetically.\n",
    "## a. your task is to create a dataframe with this dictionary. NOTE: DO NOT MODIFY THE DICTIONARY b. correctly re-arrange the keys alphabetically in their correct irder\n",
    "\n",
    "## countries = { 'third': ['America', 'Australia'], 'first': ['Italy', 'India'], 'second': ['Nigeria', 'New Zealand'] }"
   ]
  },
  {
   "cell_type": "code",
   "execution_count": 27,
   "id": "bba4f166",
   "metadata": {},
   "outputs": [
    {
     "name": "stdout",
     "output_type": "stream",
     "text": [
      "       third  first       second\n",
      "0    America  Italy      Nigeria\n",
      "1  Australia  India  New Zealand\n"
     ]
    }
   ],
   "source": [
    "countries = { 'third': ['America', 'Australia'], 'first': ['Italy', 'India'], 'second': ['Nigeria', 'New Zealand'] }\n",
    "df3=pd.DataFrame(countries)\n",
    "print(df3)"
   ]
  },
  {
   "cell_type": "code",
   "execution_count": 30,
   "id": "c3a7c75c",
   "metadata": {},
   "outputs": [
    {
     "name": "stdout",
     "output_type": "stream",
     "text": [
      "       first second       third \n",
      "0    America  Italy      Nigeria\n",
      "1  Australia  India  New Zealand\n"
     ]
    }
   ],
   "source": [
    "df3.columns = ['first', 'second', 'third ']\n",
    "print(df3)"
   ]
  },
  {
   "cell_type": "markdown",
   "id": "4b040264",
   "metadata": {},
   "source": [
    "## 6 create a dataframe showing the scores and average score for jessica, bright and greatman in the following subjects, Maths, English and Physics. you are to use the exact procedures below to achieve this\n",
    "## a. the scores and average scores for each subject should be between 50 and 100 b. this scores are to be generated with numpy c. clearly display the subject on the correct column and the index using the names of the 3 student d. assuming a new student came on board, create a fresh dataframe for this student by name bob using the same process as follows by jessica, bright and greatman e. add these two dataframes together, NOTE: bob should come last d. sort these dataframe by the average score f. group this dataset by student who are above and below the average score of 60"
   ]
  },
  {
   "cell_type": "code",
   "execution_count": 52,
   "id": "9f0ae00b",
   "metadata": {},
   "outputs": [
    {
     "name": "stdout",
     "output_type": "stream",
     "text": [
      "          maths  english  physics\n",
      "jessica      62       70       61\n",
      "bright       74       69       97\n",
      "greatman     86       69       77\n",
      "\n",
      "          maths  english  physics\n",
      "jessica      62       70       61\n",
      "bright       74       69       97\n",
      "greatman     86       69       77\n",
      "bob          76       55       67\n"
     ]
    }
   ],
   "source": [
    "subjects ={\"maths\":np.random.randint(50,100,3),\n",
    "\"english\":np.random.randint(50,100,3),\n",
    "\"physics\":np.random.randint(50,100,3)}\n",
    "df6=pd.DataFrame(subjects,columns=(\"maths\",\"english\",\"physics\"),index=(\"jessica\",\"bright\",\"greatman\"))\n",
    "print(df6)\n",
    "subjects ={\"maths\":np.random.randint(50,100,1),\n",
    "\"english\":np.random.randint(50,100,1),\n",
    "\"physics\":np.random.randint(50,100,1)}\n",
    "df7=pd.DataFrame(subjects,['bob'])\n",
    "df8=[df6,df7]\n",
    "combined_df=pd.concat(df8)\n",
    "print('')\n",
    "print(combined_df)\n"
   ]
  },
  {
   "cell_type": "code",
   "execution_count": 53,
   "id": "dc7a929d",
   "metadata": {},
   "outputs": [
    {
     "data": {
      "text/plain": [
       "maths      74.50\n",
       "english    65.75\n",
       "physics    75.50\n",
       "dtype: float64"
      ]
     },
     "execution_count": 53,
     "metadata": {},
     "output_type": "execute_result"
    }
   ],
   "source": [
    "combined_df.mean()"
   ]
  },
  {
   "cell_type": "code",
   "execution_count": null,
   "id": "a481e0d8",
   "metadata": {},
   "outputs": [],
   "source": []
  },
  {
   "cell_type": "markdown",
   "id": "4272f326",
   "metadata": {},
   "source": [
    "## TASK\n",
    "## a. read this dataset using pandas\n",
    "## b. we dont care about the extraction_day and extraction_time, do not display this in the dataframe\n",
    "## NOTE: DO NOT MODIFY THE DATASET FROM THE CSV FILE\n",
    "## c. check the memory usage of this dataset, reduce the bandwidth in any possible way you can\n",
    "## d. display the first five and last five data in the dataframe\n",
    "## e. randomly display some part of the data in the dataframe"
   ]
  },
  {
   "cell_type": "code",
   "execution_count": 15,
   "id": "c17cacf5",
   "metadata": {
    "scrolled": true
   },
   "outputs": [],
   "source": [
    "diet =pd.read_csv(\"diets.csv\")\n"
   ]
  },
  {
   "cell_type": "code",
   "execution_count": 13,
   "id": "e34ed1b0",
   "metadata": {},
   "outputs": [],
   "source": [
    "\n",
    "diets=diet.drop(['Extraction_day'], axis=1, inplace=False)\n",
    "\n"
   ]
  },
  {
   "cell_type": "code",
   "execution_count": 17,
   "id": "cb126a1a",
   "metadata": {},
   "outputs": [
    {
     "data": {
      "text/html": [
       "<div>\n",
       "<style scoped>\n",
       "    .dataframe tbody tr th:only-of-type {\n",
       "        vertical-align: middle;\n",
       "    }\n",
       "\n",
       "    .dataframe tbody tr th {\n",
       "        vertical-align: top;\n",
       "    }\n",
       "\n",
       "    .dataframe thead th {\n",
       "        text-align: right;\n",
       "    }\n",
       "</style>\n",
       "<table border=\"1\" class=\"dataframe\">\n",
       "  <thead>\n",
       "    <tr style=\"text-align: right;\">\n",
       "      <th></th>\n",
       "      <th>Diet_type</th>\n",
       "      <th>Recipe_name</th>\n",
       "      <th>Cuisine_type</th>\n",
       "      <th>Protein(g)</th>\n",
       "      <th>Carbs(g)</th>\n",
       "      <th>Fat(g)</th>\n",
       "    </tr>\n",
       "  </thead>\n",
       "  <tbody>\n",
       "    <tr>\n",
       "      <th>0</th>\n",
       "      <td>paleo</td>\n",
       "      <td>Bone Broth From 'Nom Nom Paleo'</td>\n",
       "      <td>american</td>\n",
       "      <td>5.22</td>\n",
       "      <td>1.29</td>\n",
       "      <td>3.20</td>\n",
       "    </tr>\n",
       "    <tr>\n",
       "      <th>1</th>\n",
       "      <td>paleo</td>\n",
       "      <td>Paleo Effect Asian-Glazed Pork Sides, A Sweet ...</td>\n",
       "      <td>south east asian</td>\n",
       "      <td>181.55</td>\n",
       "      <td>28.62</td>\n",
       "      <td>146.14</td>\n",
       "    </tr>\n",
       "    <tr>\n",
       "      <th>2</th>\n",
       "      <td>paleo</td>\n",
       "      <td>Paleo Pumpkin Pie</td>\n",
       "      <td>american</td>\n",
       "      <td>30.91</td>\n",
       "      <td>302.59</td>\n",
       "      <td>96.76</td>\n",
       "    </tr>\n",
       "    <tr>\n",
       "      <th>3</th>\n",
       "      <td>paleo</td>\n",
       "      <td>Strawberry Guacamole recipes</td>\n",
       "      <td>mexican</td>\n",
       "      <td>9.62</td>\n",
       "      <td>75.78</td>\n",
       "      <td>59.89</td>\n",
       "    </tr>\n",
       "    <tr>\n",
       "      <th>4</th>\n",
       "      <td>paleo</td>\n",
       "      <td>Asian Cauliflower Fried \"Rice\" From 'Nom Nom P...</td>\n",
       "      <td>chinese</td>\n",
       "      <td>39.84</td>\n",
       "      <td>54.08</td>\n",
       "      <td>71.55</td>\n",
       "    </tr>\n",
       "    <tr>\n",
       "      <th>...</th>\n",
       "      <td>...</td>\n",
       "      <td>...</td>\n",
       "      <td>...</td>\n",
       "      <td>...</td>\n",
       "      <td>...</td>\n",
       "      <td>...</td>\n",
       "    </tr>\n",
       "    <tr>\n",
       "      <th>7801</th>\n",
       "      <td>dash</td>\n",
       "      <td>Brown Butter-Sunchoke Soup With Brussels Sprou...</td>\n",
       "      <td>italian</td>\n",
       "      <td>85.20</td>\n",
       "      <td>288.14</td>\n",
       "      <td>137.15</td>\n",
       "    </tr>\n",
       "    <tr>\n",
       "      <th>7802</th>\n",
       "      <td>dash</td>\n",
       "      <td>Make-Your-Own-Salad</td>\n",
       "      <td>american</td>\n",
       "      <td>141.98</td>\n",
       "      <td>123.18</td>\n",
       "      <td>323.50</td>\n",
       "    </tr>\n",
       "    <tr>\n",
       "      <th>7803</th>\n",
       "      <td>dash</td>\n",
       "      <td>Luis Buñuel Dry Martini</td>\n",
       "      <td>world</td>\n",
       "      <td>0.01</td>\n",
       "      <td>0.39</td>\n",
       "      <td>0.00</td>\n",
       "    </tr>\n",
       "    <tr>\n",
       "      <th>7804</th>\n",
       "      <td>dash</td>\n",
       "      <td>Cornflake Semi-Fried Chicken Tenders</td>\n",
       "      <td>american</td>\n",
       "      <td>155.38</td>\n",
       "      <td>239.88</td>\n",
       "      <td>260.84</td>\n",
       "    </tr>\n",
       "    <tr>\n",
       "      <th>7805</th>\n",
       "      <td>dash</td>\n",
       "      <td>Emeril's Classic Manhattan</td>\n",
       "      <td>american</td>\n",
       "      <td>0.02</td>\n",
       "      <td>0.83</td>\n",
       "      <td>0.00</td>\n",
       "    </tr>\n",
       "  </tbody>\n",
       "</table>\n",
       "<p>7806 rows × 6 columns</p>\n",
       "</div>"
      ],
      "text/plain": [
       "     Diet_type                                        Recipe_name  \\\n",
       "0        paleo                    Bone Broth From 'Nom Nom Paleo'   \n",
       "1        paleo  Paleo Effect Asian-Glazed Pork Sides, A Sweet ...   \n",
       "2        paleo                                  Paleo Pumpkin Pie   \n",
       "3        paleo                       Strawberry Guacamole recipes   \n",
       "4        paleo  Asian Cauliflower Fried \"Rice\" From 'Nom Nom P...   \n",
       "...        ...                                                ...   \n",
       "7801      dash  Brown Butter-Sunchoke Soup With Brussels Sprou...   \n",
       "7802      dash                                Make-Your-Own-Salad   \n",
       "7803      dash                            Luis Buñuel Dry Martini   \n",
       "7804      dash               Cornflake Semi-Fried Chicken Tenders   \n",
       "7805      dash                         Emeril's Classic Manhattan   \n",
       "\n",
       "          Cuisine_type  Protein(g)  Carbs(g)  Fat(g)  \n",
       "0             american        5.22      1.29    3.20  \n",
       "1     south east asian      181.55     28.62  146.14  \n",
       "2             american       30.91    302.59   96.76  \n",
       "3              mexican        9.62     75.78   59.89  \n",
       "4              chinese       39.84     54.08   71.55  \n",
       "...                ...         ...       ...     ...  \n",
       "7801           italian       85.20    288.14  137.15  \n",
       "7802          american      141.98    123.18  323.50  \n",
       "7803             world        0.01      0.39    0.00  \n",
       "7804          american      155.38    239.88  260.84  \n",
       "7805          american        0.02      0.83    0.00  \n",
       "\n",
       "[7806 rows x 6 columns]"
      ]
     },
     "execution_count": 17,
     "metadata": {},
     "output_type": "execute_result"
    }
   ],
   "source": [
    "diets.drop(['Extraction_time'], axis=1, inplace=False)\n"
   ]
  },
  {
   "cell_type": "code",
   "execution_count": 25,
   "id": "21beb02b",
   "metadata": {},
   "outputs": [
    {
     "name": "stdout",
     "output_type": "stream",
     "text": [
      "<class 'pandas.core.frame.DataFrame'>\n",
      "RangeIndex: 7806 entries, 0 to 7805\n",
      "Columns: 6 entries, Diet_type to Fat(g)\n",
      "dtypes: float64(3), object(3)\n",
      "memory usage: 1.8 MB\n",
      "<class 'pandas.core.frame.DataFrame'>\n",
      "RangeIndex: 7806 entries, 0 to 7805\n",
      "Columns: 5 entries, Diet_type to Fat(g)\n",
      "dtypes: float64(3), object(2)\n",
      "memory usage: 1.3 MB\n"
     ]
    }
   ],
   "source": [
    "diet.info(verbose=False, memory_usage='deep')\n",
    "new_diet= diets[['Diet_type', 'Recipe_name','Protein(g)','Carbs(g)','Fat(g)']]\n",
    "new_diet.info(verbose=False, memory_usage='deep')\n"
   ]
  },
  {
   "cell_type": "code",
   "execution_count": 26,
   "id": "f866e7b6",
   "metadata": {},
   "outputs": [
    {
     "data": {
      "text/html": [
       "<div>\n",
       "<style scoped>\n",
       "    .dataframe tbody tr th:only-of-type {\n",
       "        vertical-align: middle;\n",
       "    }\n",
       "\n",
       "    .dataframe tbody tr th {\n",
       "        vertical-align: top;\n",
       "    }\n",
       "\n",
       "    .dataframe thead th {\n",
       "        text-align: right;\n",
       "    }\n",
       "</style>\n",
       "<table border=\"1\" class=\"dataframe\">\n",
       "  <thead>\n",
       "    <tr style=\"text-align: right;\">\n",
       "      <th></th>\n",
       "      <th>Diet_type</th>\n",
       "      <th>Recipe_name</th>\n",
       "      <th>Cuisine_type</th>\n",
       "      <th>Protein(g)</th>\n",
       "      <th>Carbs(g)</th>\n",
       "      <th>Fat(g)</th>\n",
       "    </tr>\n",
       "  </thead>\n",
       "  <tbody>\n",
       "    <tr>\n",
       "      <th>0</th>\n",
       "      <td>paleo</td>\n",
       "      <td>Bone Broth From 'Nom Nom Paleo'</td>\n",
       "      <td>american</td>\n",
       "      <td>5.22</td>\n",
       "      <td>1.29</td>\n",
       "      <td>3.20</td>\n",
       "    </tr>\n",
       "    <tr>\n",
       "      <th>1</th>\n",
       "      <td>paleo</td>\n",
       "      <td>Paleo Effect Asian-Glazed Pork Sides, A Sweet ...</td>\n",
       "      <td>south east asian</td>\n",
       "      <td>181.55</td>\n",
       "      <td>28.62</td>\n",
       "      <td>146.14</td>\n",
       "    </tr>\n",
       "    <tr>\n",
       "      <th>2</th>\n",
       "      <td>paleo</td>\n",
       "      <td>Paleo Pumpkin Pie</td>\n",
       "      <td>american</td>\n",
       "      <td>30.91</td>\n",
       "      <td>302.59</td>\n",
       "      <td>96.76</td>\n",
       "    </tr>\n",
       "    <tr>\n",
       "      <th>3</th>\n",
       "      <td>paleo</td>\n",
       "      <td>Strawberry Guacamole recipes</td>\n",
       "      <td>mexican</td>\n",
       "      <td>9.62</td>\n",
       "      <td>75.78</td>\n",
       "      <td>59.89</td>\n",
       "    </tr>\n",
       "    <tr>\n",
       "      <th>4</th>\n",
       "      <td>paleo</td>\n",
       "      <td>Asian Cauliflower Fried \"Rice\" From 'Nom Nom P...</td>\n",
       "      <td>chinese</td>\n",
       "      <td>39.84</td>\n",
       "      <td>54.08</td>\n",
       "      <td>71.55</td>\n",
       "    </tr>\n",
       "  </tbody>\n",
       "</table>\n",
       "</div>"
      ],
      "text/plain": [
       "  Diet_type                                        Recipe_name  \\\n",
       "0     paleo                    Bone Broth From 'Nom Nom Paleo'   \n",
       "1     paleo  Paleo Effect Asian-Glazed Pork Sides, A Sweet ...   \n",
       "2     paleo                                  Paleo Pumpkin Pie   \n",
       "3     paleo                       Strawberry Guacamole recipes   \n",
       "4     paleo  Asian Cauliflower Fried \"Rice\" From 'Nom Nom P...   \n",
       "\n",
       "       Cuisine_type  Protein(g)  Carbs(g)  Fat(g)  \n",
       "0          american        5.22      1.29    3.20  \n",
       "1  south east asian      181.55     28.62  146.14  \n",
       "2          american       30.91    302.59   96.76  \n",
       "3           mexican        9.62     75.78   59.89  \n",
       "4           chinese       39.84     54.08   71.55  "
      ]
     },
     "execution_count": 26,
     "metadata": {},
     "output_type": "execute_result"
    }
   ],
   "source": [
    "diet.head(5)"
   ]
  },
  {
   "cell_type": "code",
   "execution_count": 24,
   "id": "bafc7534",
   "metadata": {},
   "outputs": [
    {
     "data": {
      "text/html": [
       "<div>\n",
       "<style scoped>\n",
       "    .dataframe tbody tr th:only-of-type {\n",
       "        vertical-align: middle;\n",
       "    }\n",
       "\n",
       "    .dataframe tbody tr th {\n",
       "        vertical-align: top;\n",
       "    }\n",
       "\n",
       "    .dataframe thead th {\n",
       "        text-align: right;\n",
       "    }\n",
       "</style>\n",
       "<table border=\"1\" class=\"dataframe\">\n",
       "  <thead>\n",
       "    <tr style=\"text-align: right;\">\n",
       "      <th></th>\n",
       "      <th>Diet_type</th>\n",
       "      <th>Recipe_name</th>\n",
       "      <th>Cuisine_type</th>\n",
       "      <th>Protein(g)</th>\n",
       "      <th>Carbs(g)</th>\n",
       "      <th>Fat(g)</th>\n",
       "    </tr>\n",
       "  </thead>\n",
       "  <tbody>\n",
       "    <tr>\n",
       "      <th>7801</th>\n",
       "      <td>dash</td>\n",
       "      <td>Brown Butter-Sunchoke Soup With Brussels Sprou...</td>\n",
       "      <td>italian</td>\n",
       "      <td>85.20</td>\n",
       "      <td>288.14</td>\n",
       "      <td>137.15</td>\n",
       "    </tr>\n",
       "    <tr>\n",
       "      <th>7802</th>\n",
       "      <td>dash</td>\n",
       "      <td>Make-Your-Own-Salad</td>\n",
       "      <td>american</td>\n",
       "      <td>141.98</td>\n",
       "      <td>123.18</td>\n",
       "      <td>323.50</td>\n",
       "    </tr>\n",
       "    <tr>\n",
       "      <th>7803</th>\n",
       "      <td>dash</td>\n",
       "      <td>Luis Buñuel Dry Martini</td>\n",
       "      <td>world</td>\n",
       "      <td>0.01</td>\n",
       "      <td>0.39</td>\n",
       "      <td>0.00</td>\n",
       "    </tr>\n",
       "    <tr>\n",
       "      <th>7804</th>\n",
       "      <td>dash</td>\n",
       "      <td>Cornflake Semi-Fried Chicken Tenders</td>\n",
       "      <td>american</td>\n",
       "      <td>155.38</td>\n",
       "      <td>239.88</td>\n",
       "      <td>260.84</td>\n",
       "    </tr>\n",
       "    <tr>\n",
       "      <th>7805</th>\n",
       "      <td>dash</td>\n",
       "      <td>Emeril's Classic Manhattan</td>\n",
       "      <td>american</td>\n",
       "      <td>0.02</td>\n",
       "      <td>0.83</td>\n",
       "      <td>0.00</td>\n",
       "    </tr>\n",
       "  </tbody>\n",
       "</table>\n",
       "</div>"
      ],
      "text/plain": [
       "     Diet_type                                        Recipe_name  \\\n",
       "7801      dash  Brown Butter-Sunchoke Soup With Brussels Sprou...   \n",
       "7802      dash                                Make-Your-Own-Salad   \n",
       "7803      dash                            Luis Buñuel Dry Martini   \n",
       "7804      dash               Cornflake Semi-Fried Chicken Tenders   \n",
       "7805      dash                         Emeril's Classic Manhattan   \n",
       "\n",
       "     Cuisine_type  Protein(g)  Carbs(g)  Fat(g)  \n",
       "7801      italian       85.20    288.14  137.15  \n",
       "7802     american      141.98    123.18  323.50  \n",
       "7803        world        0.01      0.39    0.00  \n",
       "7804     american      155.38    239.88  260.84  \n",
       "7805     american        0.02      0.83    0.00  "
      ]
     },
     "execution_count": 24,
     "metadata": {},
     "output_type": "execute_result"
    }
   ],
   "source": [
    "diet.tail(5)"
   ]
  },
  {
   "cell_type": "code",
   "execution_count": 27,
   "id": "6f1673d1",
   "metadata": {},
   "outputs": [
    {
     "data": {
      "text/html": [
       "<div>\n",
       "<style scoped>\n",
       "    .dataframe tbody tr th:only-of-type {\n",
       "        vertical-align: middle;\n",
       "    }\n",
       "\n",
       "    .dataframe tbody tr th {\n",
       "        vertical-align: top;\n",
       "    }\n",
       "\n",
       "    .dataframe thead th {\n",
       "        text-align: right;\n",
       "    }\n",
       "</style>\n",
       "<table border=\"1\" class=\"dataframe\">\n",
       "  <thead>\n",
       "    <tr style=\"text-align: right;\">\n",
       "      <th></th>\n",
       "      <th>Diet_type</th>\n",
       "      <th>Recipe_name</th>\n",
       "      <th>Cuisine_type</th>\n",
       "      <th>Protein(g)</th>\n",
       "      <th>Carbs(g)</th>\n",
       "      <th>Fat(g)</th>\n",
       "    </tr>\n",
       "  </thead>\n",
       "  <tbody>\n",
       "    <tr>\n",
       "      <th>2677</th>\n",
       "      <td>vegan</td>\n",
       "      <td>Recipe: Roasted Sweet Potato Slices with Cilan...</td>\n",
       "      <td>italian</td>\n",
       "      <td>39.80</td>\n",
       "      <td>229.88</td>\n",
       "      <td>151.44</td>\n",
       "    </tr>\n",
       "    <tr>\n",
       "      <th>2155</th>\n",
       "      <td>vegan</td>\n",
       "      <td>Beetroot &amp; squash Wellingtons with kale pesto</td>\n",
       "      <td>british</td>\n",
       "      <td>125.44</td>\n",
       "      <td>610.67</td>\n",
       "      <td>332.90</td>\n",
       "    </tr>\n",
       "    <tr>\n",
       "      <th>4838</th>\n",
       "      <td>mediterranean</td>\n",
       "      <td>Piedmontese peppers</td>\n",
       "      <td>mediterranean</td>\n",
       "      <td>46.08</td>\n",
       "      <td>59.35</td>\n",
       "      <td>88.77</td>\n",
       "    </tr>\n",
       "    <tr>\n",
       "      <th>7193</th>\n",
       "      <td>dash</td>\n",
       "      <td>Milky Way Cake</td>\n",
       "      <td>american</td>\n",
       "      <td>78.91</td>\n",
       "      <td>1041.58</td>\n",
       "      <td>401.55</td>\n",
       "    </tr>\n",
       "    <tr>\n",
       "      <th>4109</th>\n",
       "      <td>keto</td>\n",
       "      <td>keto Low Carb Hot Tuscan Chicken casserole #ke...</td>\n",
       "      <td>italian</td>\n",
       "      <td>111.85</td>\n",
       "      <td>23.42</td>\n",
       "      <td>244.27</td>\n",
       "    </tr>\n",
       "  </tbody>\n",
       "</table>\n",
       "</div>"
      ],
      "text/plain": [
       "          Diet_type                                        Recipe_name  \\\n",
       "2677          vegan  Recipe: Roasted Sweet Potato Slices with Cilan...   \n",
       "2155          vegan      Beetroot & squash Wellingtons with kale pesto   \n",
       "4838  mediterranean                                Piedmontese peppers   \n",
       "7193           dash                                     Milky Way Cake   \n",
       "4109           keto  keto Low Carb Hot Tuscan Chicken casserole #ke...   \n",
       "\n",
       "       Cuisine_type  Protein(g)  Carbs(g)  Fat(g)  \n",
       "2677        italian       39.80    229.88  151.44  \n",
       "2155        british      125.44    610.67  332.90  \n",
       "4838  mediterranean       46.08     59.35   88.77  \n",
       "7193       american       78.91   1041.58  401.55  \n",
       "4109        italian      111.85     23.42  244.27  "
      ]
     },
     "execution_count": 27,
     "metadata": {},
     "output_type": "execute_result"
    }
   ],
   "source": [
    "diet.sample(5)"
   ]
  },
  {
   "cell_type": "markdown",
   "id": "2381eed9",
   "metadata": {},
   "source": []
  }
 ],
 "metadata": {
  "kernelspec": {
   "display_name": "Python 3 (ipykernel)",
   "language": "python",
   "name": "python3"
  },
  "language_info": {
   "codemirror_mode": {
    "name": "ipython",
    "version": 3
   },
   "file_extension": ".py",
   "mimetype": "text/x-python",
   "name": "python",
   "nbconvert_exporter": "python",
   "pygments_lexer": "ipython3",
   "version": "3.9.13"
  }
 },
 "nbformat": 4,
 "nbformat_minor": 5
}

{
 "cells": [
  {
   "cell_type": "code",
   "execution_count": 1,
   "id": "c99f3fab",
   "metadata": {},
   "outputs": [],
   "source": [
    "def brighto(x):\n",
    "    x.sort()\n",
    "    x.pop()\n",
    "    x.pop(0)\n",
    "    return x"
   ]
  },
  {
   "cell_type": "code",
   "execution_count": 2,
   "id": "21895fe1",
   "metadata": {},
   "outputs": [],
   "source": [
    "def emma(x):\n",
    "    x.sort()\n",
    "    x.pop()\n",
    "    x.pop()\n",
    "    x.pop(0)\n",
    "    x.pop(0)\n",
    "    return x"
   ]
  },
  {
   "cell_type": "code",
   "execution_count": null,
   "id": "7c429ebc",
   "metadata": {},
   "outputs": [],
   "source": [
    "number=[]\n",
    "while True:\n",
    "    num=input(\"please enter your number: \")\n",
    "    if num ==\"\":\n",
    "        break\n",
    "    num=int(num)\n",
    "    if num<0:\n",
    "        continue\n",
    "    number.append(num)  \n",
    "if len(number) < 4:\n",
    "    print(\"please enter 4 or more items\")\n",
    "print(number)        \n",
    "print(f\" after popping {emma(number)}\")"
   ]
  }
 ],
 "metadata": {
  "kernelspec": {
   "display_name": "Python 3 (ipykernel)",
   "language": "python",
   "name": "python3"
  },
  "language_info": {
   "codemirror_mode": {
    "name": "ipython",
    "version": 3
   },
   "file_extension": ".py",
   "mimetype": "text/x-python",
   "name": "python",
   "nbconvert_exporter": "python",
   "pygments_lexer": "ipython3",
   "version": "3.9.12"
  }
 },
 "nbformat": 4,
 "nbformat_minor": 5
}
